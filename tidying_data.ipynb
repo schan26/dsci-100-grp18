{
 "cells": [
  {
   "cell_type": "code",
   "execution_count": null,
   "id": "b7cb6ecf-084b-4c9b-9075-14764824cab9",
   "metadata": {},
   "outputs": [],
   "source": [
    "\n",
    "# Clean and wrangle your data into a tidy format\n",
    "\n",
    "# Step 1\n",
    "\n"
   ]
  }
 ],
 "metadata": {
  "kernelspec": {
   "display_name": "R",
   "language": "R",
   "name": "ir"
  },
  "language_info": {
   "codemirror_mode": "r",
   "file_extension": ".r",
   "mimetype": "text/x-r-source",
   "name": "R",
   "pygments_lexer": "r",
   "version": "4.3.1"
  }
 },
 "nbformat": 4,
 "nbformat_minor": 5
}
