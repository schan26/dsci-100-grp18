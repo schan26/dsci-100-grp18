{
 "cells": [
  {
   "cell_type": "code",
   "execution_count": 5,
   "id": "b7cb6ecf-084b-4c9b-9075-14764824cab9",
   "metadata": {},
   "outputs": [
    {
     "name": "stderr",
     "output_type": "stream",
     "text": [
      "Warning message:\n",
      "“\u001b[1m\u001b[22mOne or more parsing issues, call `problems()` on your data frame for details,\n",
      "e.g.:\n",
      "  dat <- vroom(...)\n",
      "  problems(dat)”\n",
      "\u001b[1mRows: \u001b[22m\u001b[34m400\u001b[39m \u001b[1mColumns: \u001b[22m\u001b[34m25\u001b[39m\n",
      "\u001b[36m──\u001b[39m \u001b[1mColumn specification\u001b[22m \u001b[36m────────────────────────────────────────────────────────\u001b[39m\n",
      "\u001b[1mDelimiter:\u001b[22m \",\"\n",
      "\u001b[31mchr\u001b[39m (25): X1, X2, X3, X4, X5, X6, X7, X8, X9, X10, X11, X12, X13, X14, X15, ...\n",
      "\n",
      "\u001b[36mℹ\u001b[39m Use `spec()` to retrieve the full column specification for this data.\n",
      "\u001b[36mℹ\u001b[39m Specify the column types or set `show_col_types = FALSE` to quiet this message.\n"
     ]
    },
    {
     "data": {
      "text/html": [
       "<table class=\"dataframe\">\n",
       "<caption>A spec_tbl_df: 400 × 25</caption>\n",
       "<thead>\n",
       "\t<tr><th scope=col>X1</th><th scope=col>X2</th><th scope=col>X3</th><th scope=col>X4</th><th scope=col>X5</th><th scope=col>X6</th><th scope=col>X7</th><th scope=col>X8</th><th scope=col>X9</th><th scope=col>X10</th><th scope=col>⋯</th><th scope=col>X16</th><th scope=col>X17</th><th scope=col>X18</th><th scope=col>X19</th><th scope=col>X20</th><th scope=col>X21</th><th scope=col>X22</th><th scope=col>X23</th><th scope=col>X24</th><th scope=col>X25</th></tr>\n",
       "\t<tr><th scope=col>&lt;chr&gt;</th><th scope=col>&lt;chr&gt;</th><th scope=col>&lt;chr&gt;</th><th scope=col>&lt;chr&gt;</th><th scope=col>&lt;chr&gt;</th><th scope=col>&lt;chr&gt;</th><th scope=col>&lt;chr&gt;</th><th scope=col>&lt;chr&gt;</th><th scope=col>&lt;chr&gt;</th><th scope=col>&lt;chr&gt;</th><th scope=col>⋯</th><th scope=col>&lt;chr&gt;</th><th scope=col>&lt;chr&gt;</th><th scope=col>&lt;chr&gt;</th><th scope=col>&lt;chr&gt;</th><th scope=col>&lt;chr&gt;</th><th scope=col>&lt;chr&gt;</th><th scope=col>&lt;chr&gt;</th><th scope=col>&lt;chr&gt;</th><th scope=col>&lt;chr&gt;</th><th scope=col>&lt;chr&gt;</th></tr>\n",
       "</thead>\n",
       "<tbody>\n",
       "\t<tr><td>48</td><td>80</td><td>1.020</td><td>1</td><td>0</td><td>?     </td><td>normal</td><td>notpresent</td><td>notpresent</td><td>121</td><td>⋯</td><td>44</td><td>7800</td><td>5.2</td><td>yes</td><td>yes</td><td>no</td><td>good</td><td>no</td><td>no </td><td>ckd</td></tr>\n",
       "\t<tr><td>7 </td><td>50</td><td>1.020</td><td>4</td><td>0</td><td>?     </td><td>normal</td><td>notpresent</td><td>notpresent</td><td>?  </td><td>⋯</td><td>38</td><td>6000</td><td>?  </td><td>no </td><td>no </td><td>no</td><td>good</td><td>no</td><td>no </td><td>ckd</td></tr>\n",
       "\t<tr><td>62</td><td>80</td><td>1.010</td><td>2</td><td>3</td><td>normal</td><td>normal</td><td>notpresent</td><td>notpresent</td><td>423</td><td>⋯</td><td>31</td><td>7500</td><td>?  </td><td>no </td><td>yes</td><td>no</td><td>poor</td><td>no</td><td>yes</td><td>ckd</td></tr>\n",
       "\t<tr><td>⋮</td><td>⋮</td><td>⋮</td><td>⋮</td><td>⋮</td><td>⋮</td><td>⋮</td><td>⋮</td><td>⋮</td><td>⋮</td><td>⋱</td><td>⋮</td><td>⋮</td><td>⋮</td><td>⋮</td><td>⋮</td><td>⋮</td><td>⋮</td><td>⋮</td><td>⋮</td><td>⋮</td></tr>\n",
       "\t<tr><td>12</td><td>80</td><td>1.020</td><td>0</td><td>0</td><td>normal</td><td>normal</td><td>notpresent</td><td>notpresent</td><td>100</td><td>⋯</td><td>49</td><td>6600</td><td>5.4</td><td>no</td><td>no</td><td>no</td><td>good</td><td>no</td><td>no</td><td>notckd</td></tr>\n",
       "\t<tr><td>17</td><td>60</td><td>1.025</td><td>0</td><td>0</td><td>normal</td><td>normal</td><td>notpresent</td><td>notpresent</td><td>114</td><td>⋯</td><td>51</td><td>7200</td><td>5.9</td><td>no</td><td>no</td><td>no</td><td>good</td><td>no</td><td>no</td><td>notckd</td></tr>\n",
       "\t<tr><td>58</td><td>80</td><td>1.025</td><td>0</td><td>0</td><td>normal</td><td>normal</td><td>notpresent</td><td>notpresent</td><td>131</td><td>⋯</td><td>53</td><td>6800</td><td>6.1</td><td>no</td><td>no</td><td>no</td><td>good</td><td>no</td><td>no</td><td>notckd</td></tr>\n",
       "</tbody>\n",
       "</table>\n"
      ],
      "text/latex": [
       "A spec\\_tbl\\_df: 400 × 25\n",
       "\\begin{tabular}{lllllllllllllllllllll}\n",
       " X1 & X2 & X3 & X4 & X5 & X6 & X7 & X8 & X9 & X10 & ⋯ & X16 & X17 & X18 & X19 & X20 & X21 & X22 & X23 & X24 & X25\\\\\n",
       " <chr> & <chr> & <chr> & <chr> & <chr> & <chr> & <chr> & <chr> & <chr> & <chr> & ⋯ & <chr> & <chr> & <chr> & <chr> & <chr> & <chr> & <chr> & <chr> & <chr> & <chr>\\\\\n",
       "\\hline\n",
       "\t 48 & 80 & 1.020 & 1 & 0 & ?      & normal & notpresent & notpresent & 121 & ⋯ & 44 & 7800 & 5.2 & yes & yes & no & good & no & no  & ckd\\\\\n",
       "\t 7  & 50 & 1.020 & 4 & 0 & ?      & normal & notpresent & notpresent & ?   & ⋯ & 38 & 6000 & ?   & no  & no  & no & good & no & no  & ckd\\\\\n",
       "\t 62 & 80 & 1.010 & 2 & 3 & normal & normal & notpresent & notpresent & 423 & ⋯ & 31 & 7500 & ?   & no  & yes & no & poor & no & yes & ckd\\\\\n",
       "\t ⋮ & ⋮ & ⋮ & ⋮ & ⋮ & ⋮ & ⋮ & ⋮ & ⋮ & ⋮ & ⋱ & ⋮ & ⋮ & ⋮ & ⋮ & ⋮ & ⋮ & ⋮ & ⋮ & ⋮ & ⋮\\\\\n",
       "\t 12 & 80 & 1.020 & 0 & 0 & normal & normal & notpresent & notpresent & 100 & ⋯ & 49 & 6600 & 5.4 & no & no & no & good & no & no & notckd\\\\\n",
       "\t 17 & 60 & 1.025 & 0 & 0 & normal & normal & notpresent & notpresent & 114 & ⋯ & 51 & 7200 & 5.9 & no & no & no & good & no & no & notckd\\\\\n",
       "\t 58 & 80 & 1.025 & 0 & 0 & normal & normal & notpresent & notpresent & 131 & ⋯ & 53 & 6800 & 6.1 & no & no & no & good & no & no & notckd\\\\\n",
       "\\end{tabular}\n"
      ],
      "text/markdown": [
       "\n",
       "A spec_tbl_df: 400 × 25\n",
       "\n",
       "| X1 &lt;chr&gt; | X2 &lt;chr&gt; | X3 &lt;chr&gt; | X4 &lt;chr&gt; | X5 &lt;chr&gt; | X6 &lt;chr&gt; | X7 &lt;chr&gt; | X8 &lt;chr&gt; | X9 &lt;chr&gt; | X10 &lt;chr&gt; | ⋯ ⋯ | X16 &lt;chr&gt; | X17 &lt;chr&gt; | X18 &lt;chr&gt; | X19 &lt;chr&gt; | X20 &lt;chr&gt; | X21 &lt;chr&gt; | X22 &lt;chr&gt; | X23 &lt;chr&gt; | X24 &lt;chr&gt; | X25 &lt;chr&gt; |\n",
       "|---|---|---|---|---|---|---|---|---|---|---|---|---|---|---|---|---|---|---|---|---|\n",
       "| 48 | 80 | 1.020 | 1 | 0 | ?      | normal | notpresent | notpresent | 121 | ⋯ | 44 | 7800 | 5.2 | yes | yes | no | good | no | no  | ckd |\n",
       "| 7  | 50 | 1.020 | 4 | 0 | ?      | normal | notpresent | notpresent | ?   | ⋯ | 38 | 6000 | ?   | no  | no  | no | good | no | no  | ckd |\n",
       "| 62 | 80 | 1.010 | 2 | 3 | normal | normal | notpresent | notpresent | 423 | ⋯ | 31 | 7500 | ?   | no  | yes | no | poor | no | yes | ckd |\n",
       "| ⋮ | ⋮ | ⋮ | ⋮ | ⋮ | ⋮ | ⋮ | ⋮ | ⋮ | ⋮ | ⋱ | ⋮ | ⋮ | ⋮ | ⋮ | ⋮ | ⋮ | ⋮ | ⋮ | ⋮ | ⋮ |\n",
       "| 12 | 80 | 1.020 | 0 | 0 | normal | normal | notpresent | notpresent | 100 | ⋯ | 49 | 6600 | 5.4 | no | no | no | good | no | no | notckd |\n",
       "| 17 | 60 | 1.025 | 0 | 0 | normal | normal | notpresent | notpresent | 114 | ⋯ | 51 | 7200 | 5.9 | no | no | no | good | no | no | notckd |\n",
       "| 58 | 80 | 1.025 | 0 | 0 | normal | normal | notpresent | notpresent | 131 | ⋯ | 53 | 6800 | 6.1 | no | no | no | good | no | no | notckd |\n",
       "\n"
      ],
      "text/plain": [
       "    X1 X2 X3    X4 X5 X6     X7     X8         X9         X10 ⋯ X16 X17  X18\n",
       "1   48 80 1.020 1  0  ?      normal notpresent notpresent 121 ⋯ 44  7800 5.2\n",
       "2   7  50 1.020 4  0  ?      normal notpresent notpresent ?   ⋯ 38  6000 ?  \n",
       "3   62 80 1.010 2  3  normal normal notpresent notpresent 423 ⋯ 31  7500 ?  \n",
       "⋮   ⋮  ⋮  ⋮     ⋮  ⋮  ⋮      ⋮      ⋮          ⋮          ⋮   ⋱ ⋮   ⋮    ⋮  \n",
       "398 12 80 1.020 0  0  normal normal notpresent notpresent 100 ⋯ 49  6600 5.4\n",
       "399 17 60 1.025 0  0  normal normal notpresent notpresent 114 ⋯ 51  7200 5.9\n",
       "400 58 80 1.025 0  0  normal normal notpresent notpresent 131 ⋯ 53  6800 6.1\n",
       "    X19 X20 X21 X22  X23 X24 X25   \n",
       "1   yes yes no  good no  no  ckd   \n",
       "2   no  no  no  good no  no  ckd   \n",
       "3   no  yes no  poor no  yes ckd   \n",
       "⋮   ⋮   ⋮   ⋮   ⋮    ⋮   ⋮   ⋮     \n",
       "398 no  no  no  good no  no  notckd\n",
       "399 no  no  no  good no  no  notckd\n",
       "400 no  no  no  good no  no  notckd"
      ]
     },
     "metadata": {},
     "output_type": "display_data"
    }
   ],
   "source": [
    "# Clean and wrangle your data into a tidy format\n",
    "\n",
    "# importing libraries\n",
    "library(tidyverse)\n",
    "library(repr)\n",
    "library(rvest)\n",
    "library(stringr)\n",
    "library(janitor)\n",
    "options(repr.matrix.max.rows = 6)\n",
    "\n",
    "# Step 1 Read txt file\n",
    "url = \"https://raw.githubusercontent.com/schan26/dsci-100-grp18/main/chronic_kidney_disease_full.arff\"\n",
    "download.file(url, \"ckd_data.csv\")\n",
    "ckd_data <- read_delim(\"ckd_data.csv\", delim = \",\", col_names = FALSE, skip = 145)\n",
    "ckd_data"
   ]
  },
  {
   "cell_type": "code",
   "execution_count": null,
   "id": "7aeea6f5-c224-4014-956c-489b7f1c1553",
   "metadata": {},
   "outputs": [],
   "source": []
  }
 ],
 "metadata": {
  "kernelspec": {
   "display_name": "R",
   "language": "R",
   "name": "ir"
  },
  "language_info": {
   "codemirror_mode": "r",
   "file_extension": ".r",
   "mimetype": "text/x-r-source",
   "name": "R",
   "pygments_lexer": "r",
   "version": "4.3.1"
  }
 },
 "nbformat": 4,
 "nbformat_minor": 5
}
