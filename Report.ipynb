{
 "cells": [
  {
   "cell_type": "markdown",
   "id": "2caafd4d-39a0-4f1a-8567-ce740833042b",
   "metadata": {},
   "source": [
    "# Classifying individuals with chronic kidney disease based on age, blood urea level, and serum creatinine level\n",
    "\n",
    "#### Sarah Chan, Emily Xie, Emily Yip, Aahil Tejani¶"
   ]
  }
 ],
 "metadata": {
  "kernelspec": {
   "display_name": "R",
   "language": "R",
   "name": "ir"
  },
  "language_info": {
   "codemirror_mode": "r",
   "file_extension": ".r",
   "mimetype": "text/x-r-source",
   "name": "R",
   "pygments_lexer": "r",
   "version": "4.3.1"
  }
 },
 "nbformat": 4,
 "nbformat_minor": 5
}
